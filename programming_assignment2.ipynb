{
 "cells": [
  {
   "cell_type": "raw",
   "id": "996ca500",
   "metadata": {},
   "source": [
    "1.Write a Python program to convert kilometers to miles?"
   ]
  },
  {
   "cell_type": "code",
   "execution_count": 7,
   "id": "02b2314a",
   "metadata": {},
   "outputs": [],
   "source": [
    "def convert_ktom(kilometers):\n",
    "    \"\"\"convert kilometers to miles\"\"\"\n",
    "    miles = kilometers*0.621371\n",
    "    return miles"
   ]
  },
  {
   "cell_type": "code",
   "execution_count": 8,
   "id": "569ef991",
   "metadata": {},
   "outputs": [
    {
     "name": "stdout",
     "output_type": "stream",
     "text": [
      "Enter kilometer20\n",
      "convert kilometer to miles  12.42742\n"
     ]
    }
   ],
   "source": [
    "kilometer = float(input(\"Enter kilometer\"))\n",
    "print(\"convert kilometer to miles \", convert_ktom(kilometer))"
   ]
  },
  {
   "cell_type": "raw",
   "id": "8e458faa",
   "metadata": {},
   "source": [
    "2.Write a Python program to convert Celsius to Fahrenheit?"
   ]
  },
  {
   "cell_type": "code",
   "execution_count": 10,
   "id": "8077bbfa",
   "metadata": {},
   "outputs": [],
   "source": [
    "def convert_ctof(celsius):\n",
    "    \"\"\" convert Celsius to Fahrenheit \"\"\"\n",
    "    fahrenheit = (celsius*1.8)+32\n",
    "    return fahrenheit"
   ]
  },
  {
   "cell_type": "code",
   "execution_count": 11,
   "id": "6557652a",
   "metadata": {},
   "outputs": [
    {
     "name": "stdout",
     "output_type": "stream",
     "text": [
      "Enter Celsius20\n",
      "Celsius value 68.0\n"
     ]
    }
   ],
   "source": [
    "celsius = float(input(\"Enter Celsius\"))\n",
    "print(\"Celsius value\", convert_ctof(celsius))"
   ]
  },
  {
   "cell_type": "raw",
   "id": "ebec4f8f",
   "metadata": {},
   "source": [
    "3.Write a Python program to display calendar?"
   ]
  },
  {
   "cell_type": "code",
   "execution_count": 16,
   "id": "6f70d9b0",
   "metadata": {},
   "outputs": [
    {
     "name": "stdout",
     "output_type": "stream",
     "text": [
      "Enter year2022\n",
      "                                  2022\n",
      "\n",
      "      January                   February                   March\n",
      "Mo Tu We Th Fr Sa Su      Mo Tu We Th Fr Sa Su      Mo Tu We Th Fr Sa Su\n",
      "                1  2          1  2  3  4  5  6          1  2  3  4  5  6\n",
      " 3  4  5  6  7  8  9       7  8  9 10 11 12 13       7  8  9 10 11 12 13\n",
      "10 11 12 13 14 15 16      14 15 16 17 18 19 20      14 15 16 17 18 19 20\n",
      "17 18 19 20 21 22 23      21 22 23 24 25 26 27      21 22 23 24 25 26 27\n",
      "24 25 26 27 28 29 30      28                        28 29 30 31\n",
      "31\n",
      "\n",
      "       April                      May                       June\n",
      "Mo Tu We Th Fr Sa Su      Mo Tu We Th Fr Sa Su      Mo Tu We Th Fr Sa Su\n",
      "             1  2  3                         1             1  2  3  4  5\n",
      " 4  5  6  7  8  9 10       2  3  4  5  6  7  8       6  7  8  9 10 11 12\n",
      "11 12 13 14 15 16 17       9 10 11 12 13 14 15      13 14 15 16 17 18 19\n",
      "18 19 20 21 22 23 24      16 17 18 19 20 21 22      20 21 22 23 24 25 26\n",
      "25 26 27 28 29 30         23 24 25 26 27 28 29      27 28 29 30\n",
      "                          30 31\n",
      "\n",
      "        July                     August                  September\n",
      "Mo Tu We Th Fr Sa Su      Mo Tu We Th Fr Sa Su      Mo Tu We Th Fr Sa Su\n",
      "             1  2  3       1  2  3  4  5  6  7                1  2  3  4\n",
      " 4  5  6  7  8  9 10       8  9 10 11 12 13 14       5  6  7  8  9 10 11\n",
      "11 12 13 14 15 16 17      15 16 17 18 19 20 21      12 13 14 15 16 17 18\n",
      "18 19 20 21 22 23 24      22 23 24 25 26 27 28      19 20 21 22 23 24 25\n",
      "25 26 27 28 29 30 31      29 30 31                  26 27 28 29 30\n",
      "\n",
      "      October                   November                  December\n",
      "Mo Tu We Th Fr Sa Su      Mo Tu We Th Fr Sa Su      Mo Tu We Th Fr Sa Su\n",
      "                1  2          1  2  3  4  5  6                1  2  3  4\n",
      " 3  4  5  6  7  8  9       7  8  9 10 11 12 13       5  6  7  8  9 10 11\n",
      "10 11 12 13 14 15 16      14 15 16 17 18 19 20      12 13 14 15 16 17 18\n",
      "17 18 19 20 21 22 23      21 22 23 24 25 26 27      19 20 21 22 23 24 25\n",
      "24 25 26 27 28 29 30      28 29 30                  26 27 28 29 30 31\n",
      "31\n",
      "\n"
     ]
    }
   ],
   "source": [
    "import calendar\n",
    "yy=int(input(\"Enter year\"))\n",
    "print(calendar.calendar(yy))"
   ]
  },
  {
   "cell_type": "raw",
   "id": "0810b707",
   "metadata": {},
   "source": [
    "4.Write a Python program to solve quadratic equation?"
   ]
  },
  {
   "cell_type": "code",
   "execution_count": 17,
   "id": "7f36cd7f",
   "metadata": {},
   "outputs": [],
   "source": [
    "import math"
   ]
  },
  {
   "cell_type": "code",
   "execution_count": 23,
   "id": "e2c53948",
   "metadata": {},
   "outputs": [],
   "source": [
    "def make_quad(a,b,c):\n",
    "    dis_form = b**2-(4*a*c)\n",
    "    sqrt_val = math.sqrt(abs(dis_form))\n",
    "    print(dis_form)\n",
    "    print(sqrt_val)\n",
    "    \n",
    "    if dis_form>0:\n",
    "        print(\"real and different root\")\n",
    "        print((-b+sqrt_val)/(2*a))\n",
    "        print((-b+sqrt_val)/(2*a))\n",
    "    elif dis_form == 0:\n",
    "        print(\"real and same roots\")\n",
    "        print(-b/(2*a))\n",
    "    else:\n",
    "        print(\"complex roots\")\n",
    "        print((-b/(2*a)),\"+i\",sqrt_val)\n",
    "        print((-b/(2*a)),\"-i\",sqrt_val)"
   ]
  },
  {
   "cell_type": "code",
   "execution_count": 26,
   "id": "8f1f8301",
   "metadata": {},
   "outputs": [
    {
     "name": "stdout",
     "output_type": "stream",
     "text": [
      "Enter a value5\n",
      "Enter b value2\n",
      "Enter c value5\n",
      "-96\n",
      "9.797958971132712\n",
      "complex roots\n",
      "-0.2 +i 9.797958971132712\n",
      "-0.2 -i 9.797958971132712\n"
     ]
    }
   ],
   "source": [
    "a = int(input(\"Enter a value\"))\n",
    "b = int(input(\"Enter b value\"))\n",
    "c = int(input(\"Enter c value\"))\n",
    "if a==0:\n",
    "    print(\"this is incorrect equation\")\n",
    "else:\n",
    "    make_quad(a,b,c)"
   ]
  },
  {
   "cell_type": "raw",
   "id": "323cb075",
   "metadata": {},
   "source": [
    "5.Write a Python program to swap two variables without temp variable?"
   ]
  },
  {
   "cell_type": "code",
   "execution_count": 27,
   "id": "4fe3ac7e",
   "metadata": {},
   "outputs": [
    {
     "name": "stdout",
     "output_type": "stream",
     "text": [
      "swap two variable 3 5\n"
     ]
    }
   ],
   "source": [
    "a =5\n",
    "b = 3\n",
    "a,b = b,a\n",
    "print(\"swap two variable\", a,b)"
   ]
  },
  {
   "cell_type": "code",
   "execution_count": null,
   "id": "010b9cd6",
   "metadata": {},
   "outputs": [],
   "source": []
  }
 ],
 "metadata": {
  "kernelspec": {
   "display_name": "Python 3 (ipykernel)",
   "language": "python",
   "name": "python3"
  },
  "language_info": {
   "codemirror_mode": {
    "name": "ipython",
    "version": 3
   },
   "file_extension": ".py",
   "mimetype": "text/x-python",
   "name": "python",
   "nbconvert_exporter": "python",
   "pygments_lexer": "ipython3",
   "version": "3.8.10"
  }
 },
 "nbformat": 4,
 "nbformat_minor": 5
}
