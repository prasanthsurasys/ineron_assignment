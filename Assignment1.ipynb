{
 "cells": [
  {
   "cell_type": "raw",
   "id": "fd5d65e8",
   "metadata": {},
   "source": [
    "1. In the below elements which of them are values or an expression? eg:- values can be integer or string and expressions will be mathematical operators."
   ]
  },
  {
   "cell_type": "raw",
   "id": "69614427",
   "metadata": {},
   "source": [
    "* - multiplication\n",
    "'hello' = string\n",
    "-87.8 = negative integer\n",
    "- = subraction\n",
    "/ = dividtion\n",
    "+ = addtion\n",
    "6 = integer"
   ]
  },
  {
   "cell_type": "raw",
   "id": "98fcab87",
   "metadata": {},
   "source": [
    "2. What is the difference between string and variable?"
   ]
  },
  {
   "cell_type": "raw",
   "id": "45670227",
   "metadata": {},
   "source": [
    "variable is used to hold the data in voltail memory and string is a collection of data which is hold this data by using variable\n",
    "\n",
    "example: var = \"string data\""
   ]
  },
  {
   "cell_type": "raw",
   "id": "50f3521d",
   "metadata": {},
   "source": [
    "3. Describe three different data types."
   ]
  },
  {
   "cell_type": "raw",
   "id": "2fe6b25e",
   "metadata": {},
   "source": [
    "Integer - whole number\n",
    "Float - fractinal point number\n",
    "String - sequence of character inside the single or double quotes"
   ]
  },
  {
   "cell_type": "raw",
   "id": "be1dc169",
   "metadata": {},
   "source": [
    "4. What is an expression made up of? What do all expressions do?"
   ]
  },
  {
   "cell_type": "raw",
   "id": "bbf19063",
   "metadata": {},
   "source": [
    "expression made up of variable and operator  \n",
    "And processing the input and returm the some output"
   ]
  },
  {
   "cell_type": "raw",
   "id": "b0735c38",
   "metadata": {},
   "source": [
    "5. This assignment statements, like spam = 10. What is the difference between an expression and a statement?"
   ]
  },
  {
   "cell_type": "raw",
   "id": "22bb32ab",
   "metadata": {},
   "source": [
    "expression is returned some value\n",
    "statement is just controlling the action and this is nothing return"
   ]
  },
  {
   "cell_type": "raw",
   "id": "20cffb51",
   "metadata": {},
   "source": [
    "6. After running the following code, what does the variable bacon contain?\n",
    "bacon = 22\n",
    "bacon + 1"
   ]
  },
  {
   "cell_type": "raw",
   "id": "3c27c409",
   "metadata": {},
   "source": [
    "bacon = 22\n",
    "bacon + 1\n",
    "23"
   ]
  },
  {
   "cell_type": "raw",
   "id": "ec3413c1",
   "metadata": {},
   "source": [
    "7. What should the values of the following two terms be?\n",
    "'spam' + 'spamspam'\n",
    "'spam' * 3"
   ]
  },
  {
   "cell_type": "raw",
   "id": "a12327eb",
   "metadata": {},
   "source": [
    "'spam' + 'spamspam' = 'spamspamspam'\n",
    "'spam' * 3 = 'spamspamspam'"
   ]
  },
  {
   "cell_type": "raw",
   "id": "15671557",
   "metadata": {},
   "source": [
    "8. Why is eggs a valid variable name while 100 is invalid?"
   ]
  },
  {
   "cell_type": "raw",
   "id": "1af0ba23",
   "metadata": {},
   "source": [
    "because variable name didn't start with number"
   ]
  },
  {
   "cell_type": "raw",
   "id": "8507a38c",
   "metadata": {},
   "source": [
    "9. What three functions can be used to get the integer, floating-point number, or string version of a value?"
   ]
  },
  {
   "cell_type": "raw",
   "id": "170dcee0",
   "metadata": {},
   "source": [
    "int(), float(), str()"
   ]
  },
  {
   "cell_type": "raw",
   "id": "a8b92aa6",
   "metadata": {},
   "source": [
    "10. Why does this expression cause an error? How can you fix it?\n",
    "'I have eaten ' + 99 + ' burritos.'"
   ]
  },
  {
   "cell_type": "raw",
   "id": "723d19e9",
   "metadata": {},
   "source": [
    "Because string concatinate only string not a number, so we try to change the type casting by str() or the number aroung make single quotes\n",
    "'I have eaten ' + str(99) + ' burritos.'"
   ]
  }
 ],
 "metadata": {
  "kernelspec": {
   "display_name": "Python 3 (ipykernel)",
   "language": "python",
   "name": "python3"
  },
  "language_info": {
   "codemirror_mode": {
    "name": "ipython",
    "version": 3
   },
   "file_extension": ".py",
   "mimetype": "text/x-python",
   "name": "python",
   "nbconvert_exporter": "python",
   "pygments_lexer": "ipython3",
   "version": "3.8.10"
  }
 },
 "nbformat": 4,
 "nbformat_minor": 5
}
