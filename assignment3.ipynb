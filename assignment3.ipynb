{
 "cells": [
  {
   "cell_type": "raw",
   "id": "aab5e3a0",
   "metadata": {},
   "source": [
    "1. Why are functions advantageous to have in your programs?"
   ]
  },
  {
   "cell_type": "raw",
   "id": "36fada29",
   "metadata": {},
   "source": [
    "because we no need to repeat the same code in entire program. function is reusability and once use write a program, when it's want to call the function that is the beautiful think. once call this function inside the function block run the entire code and retun out put"
   ]
  },
  {
   "cell_type": "raw",
   "id": "f03517b0",
   "metadata": {},
   "source": [
    "2. When does the code in a function run: when it's specified or when it's called?"
   ]
  },
  {
   "cell_type": "raw",
   "id": "440cce77",
   "metadata": {},
   "source": [
    "when you called the function it will run"
   ]
  },
  {
   "cell_type": "raw",
   "id": "04b78666",
   "metadata": {},
   "source": [
    "3.What statement creates a function?"
   ]
  },
  {
   "cell_type": "raw",
   "id": "1da86b89",
   "metadata": {},
   "source": [
    "def keyword used to create the function and by default it return none value sa return type"
   ]
  },
  {
   "cell_type": "raw",
   "id": "0f96fe23",
   "metadata": {},
   "source": [
    "4. What is the difference between a function and a function call?"
   ]
  },
  {
   "cell_type": "raw",
   "id": "0287ffa9",
   "metadata": {},
   "source": [
    "function is define by using def keyword, inside this block write some logic and return somthing.\n",
    "call the function using the function name with circle bracket, if any parameter inside the bracket and get the data by this caller function place"
   ]
  },
  {
   "cell_type": "raw",
   "id": "832f9979",
   "metadata": {},
   "source": [
    "5. How many global scopes are there in a Python program? How many local scopes?"
   ]
  },
  {
   "cell_type": "raw",
   "id": "53d6a9a7",
   "metadata": {},
   "source": [
    "it's depends upon the requirement, we use the global variable outside the function and local variable inside the function "
   ]
  },
  {
   "cell_type": "raw",
   "id": "cca73e54",
   "metadata": {},
   "source": [
    "6. What happens to variables in a local scope when the function call returns?"
   ]
  },
  {
   "cell_type": "raw",
   "id": "0b08fcee",
   "metadata": {},
   "source": [
    "yes. local variable hold the value inside the function and return the value with local variable or something else "
   ]
  },
  {
   "cell_type": "raw",
   "id": "04ceb0d1",
   "metadata": {},
   "source": [
    "7. What is the concept of a return value? Is it possible to have a return value in an expression?"
   ]
  },
  {
   "cell_type": "raw",
   "id": "106d93e4",
   "metadata": {},
   "source": [
    "The concept of return is return the value and break function execution.\n",
    "yes , this is possible to expression"
   ]
  },
  {
   "cell_type": "raw",
   "id": "288911bb",
   "metadata": {},
   "source": [
    "8.How do you make a function variable refer to the global variable?"
   ]
  },
  {
   "cell_type": "raw",
   "id": "2c445e8c",
   "metadata": {},
   "source": [
    "global keyword inside the function, before using the variable, global keywork with variable name"
   ]
  },
  {
   "cell_type": "raw",
   "id": "0a429ed7",
   "metadata": {},
   "source": [
    "9.What is the data type of None?"
   ]
  },
  {
   "cell_type": "raw",
   "id": "0b14bb67",
   "metadata": {},
   "source": [
    "None datatype is equal to the null value instanted of used None value"
   ]
  },
  {
   "cell_type": "raw",
   "id": "7d46f379",
   "metadata": {},
   "source": [
    "11. What does the sentence import are all your pets name deric do?"
   ]
  },
  {
   "cell_type": "raw",
   "id": "76a1f9aa",
   "metadata": {},
   "source": [
    "import sentence is inhert all aspect from the module"
   ]
  },
  {
   "cell_type": "raw",
   "id": "2a185ca6",
   "metadata": {},
   "source": [
    "12. If you had a bacon() feature in a spam module, what would you call it after importing spam?"
   ]
  },
  {
   "cell_type": "raw",
   "id": "edacdbef",
   "metadata": {},
   "source": [
    "import spam\n",
    "spam.bacon()"
   ]
  },
  {
   "cell_type": "raw",
   "id": "4e7dccad",
   "metadata": {},
   "source": [
    "13. What can you do to save a programme from crashing if it encounters an error?"
   ]
  },
  {
   "cell_type": "raw",
   "id": "fdc9d595",
   "metadata": {},
   "source": [
    "I will use exception handling and encounter the error"
   ]
  },
  {
   "cell_type": "raw",
   "id": "dbe06b83",
   "metadata": {},
   "source": [
    "14. What is the purpose of the try clause? What is the purpose of the except clause?"
   ]
  },
  {
   "cell_type": "raw",
   "id": "9097f951",
   "metadata": {},
   "source": [
    "try block write the code and except block we can found the error"
   ]
  },
  {
   "cell_type": "code",
   "execution_count": null,
   "id": "6b7f7e50",
   "metadata": {},
   "outputs": [],
   "source": []
  }
 ],
 "metadata": {
  "kernelspec": {
   "display_name": "Python 3 (ipykernel)",
   "language": "python",
   "name": "python3"
  },
  "language_info": {
   "codemirror_mode": {
    "name": "ipython",
    "version": 3
   },
   "file_extension": ".py",
   "mimetype": "text/x-python",
   "name": "python",
   "nbconvert_exporter": "python",
   "pygments_lexer": "ipython3",
   "version": "3.8.10"
  }
 },
 "nbformat": 4,
 "nbformat_minor": 5
}
